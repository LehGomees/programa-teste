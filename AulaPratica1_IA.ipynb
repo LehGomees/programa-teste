{
  "nbformat": 4,
  "nbformat_minor": 0,
  "metadata": {
    "colab": {
      "provenance": [],
      "authorship_tag": "ABX9TyMOtPLRl5ihbi+zMYy8L3lg",
      "include_colab_link": true
    },
    "kernelspec": {
      "name": "python3",
      "display_name": "Python 3"
    },
    "language_info": {
      "name": "python"
    }
  },
  "cells": [
    {
      "cell_type": "markdown",
      "metadata": {
        "id": "view-in-github",
        "colab_type": "text"
      },
      "source": [
        "<a href=\"https://colab.research.google.com/github/LehGomees/programa-teste/blob/main/AulaPratica1_IA.ipynb\" target=\"_parent\"><img src=\"https://colab.research.google.com/assets/colab-badge.svg\" alt=\"Open In Colab\"/></a>"
      ]
    },
    {
      "cell_type": "markdown",
      "source": [
        "primeiro modelo GAN de IA. É utilizado para aprendizado de máquina para gerar novos dados semelhantes a um conjunto de dados de treinamento."
      ],
      "metadata": {
        "id": "pnOLG0YiCW8O"
      }
    },
    {
      "cell_type": "markdown",
      "source": [
        "Letícia S.Gomes"
      ],
      "metadata": {
        "id": "7SaWu-4XL_BR"
      }
    },
    {
      "cell_type": "code",
      "execution_count": null,
      "metadata": {
        "id": "30DsdjoIx7tD"
      },
      "outputs": [],
      "source": [
        "#Importando as bibliotecas que eu vou usar\n",
        "\n",
        "import tensorflow as tf\n",
        "from tensorflow.keras import layers\n",
        "\n",
        "#função para criar um gerador\n",
        "def build_generator(latent_dim, output_shape):\n",
        "  model = tf.keras.Sequential()\n",
        "  model.add(layers.Dense(256, input_dim=latent_dim, activation='relu'))\n",
        "  model.add(layers.BatchNormalization())\n",
        "  model.add(layers.Dense(512, activation='relu'))\n",
        "  model.add(layers.BatchNormalization())\n",
        "  model.add(layers.Dense(1024, activation='relu'))\n",
        "  model.add(layers.BatchNormalization())\n",
        "  model.add(layers.Dense(output_shape, activation='tanh'))\n",
        "  return model\n",
        "\n",
        "#função para criar o discriminador\n",
        "def build_discriminator(input_shape):\n",
        "  model = tf.keras.Sequential()\n",
        "  model.add(layers.Dense(1024, input_shape=(input_shape,), activation='relu'))\n",
        "  model.add(layers.Dropout(0.3))\n",
        "  model.add(layers.Dense(512, activation='relu'))\n",
        "  model.add(layers.Dropout(0.3))\n",
        "  model.add(layers.Dense(256, activation='relu'))\n",
        "  model.add(layers.Dropout(0.3))\n",
        "  model.add(layers.Dense(1, activation='sigmoid'))\n",
        "  return model\n",
        "\n",
        "#função modelo gan\n",
        "def build_gan(generator, discriminator):\n",
        "  discriminator.trainable = False\n",
        "  model = tf.keras.Sequential()\n",
        "  model.add(generator)\n",
        "  model.add(discriminator)\n",
        "  return model\n",
        "\n",
        "#dimenções\n",
        "latent_dim = 100\n",
        "output_shape = 784\n",
        "\n",
        "#criando as instâncias\n",
        "generator = build_generator(latent_dim, output_shape)\n",
        "discriminator = build_discriminator(output_shape)\n",
        "gan = build_gan(generator, discriminator)\n",
        "\n",
        "#compilações\n",
        "generator.compile(loss='binary_crossentropy', optimizer='adam')\n",
        "discriminator.compile(loss='binary-crossentropy', optimizer='adam', metrics=['accuracy'])\n",
        "gan.compile(loss='binary_crossentropy', optimizer='adam')\n",
        "\n"
      ]
    },
    {
      "cell_type": "markdown",
      "source": [
        "Este código uma vez treinado pode gerar novos dados que parecem pertercer ao mesmo conjunto de dados que foi usados para treinamento, como imagens que se assemelham a dígitos manuscritos (por exemplo, MNIST)."
      ],
      "metadata": {
        "id": "xVoejy2RDeUp"
      }
    }
  ]
}